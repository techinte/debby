{
 "cells": [
  {
   "cell_type": "code",
   "execution_count": 8,
   "metadata": {},
   "outputs": [],
   "source": [
    "from selenium import webdriver\n",
    "import json\n",
    "import time\n",
    "\n",
    "# Load saved cookies from the JSON file\n",
    "with open('cookies.json', 'r') as file:\n",
    "    cookies = json.load(file)\n",
    "\n",
    "# Start a new Firefox WebDriver session\n",
    "driver = webdriver.Firefox()\n",
    "\n",
    "# Open the base domain (needed to add cookies)\n",
    "driver.get('https://x.com')\n",
    "\n",
    "# Add the cookies to the current session\n",
    "for cookie in cookies:\n",
    "    if 'sameSite' in cookie and cookie['sameSite'] not in [\"Strict\", \"Lax\", \"None\"]:\n",
    "        cookie['sameSite'] = 'None'  # Adjust 'sameSite' attribute if necessary\n",
    "    try:\n",
    "        driver.add_cookie(cookie)\n",
    "    except Exception as e:\n",
    "        print(f\"Error adding cookie: {cookie['name']}, {e}\")\n",
    "\n",
    "# Navigate to the specific page (search query)\n",
    "driver.get('https://x.com/search?q=hurricanedebby&src=typed_query')\n",
    "\n",
    "# Allow time for the page to load and the session to activate\n",
    "time.sleep(5)\n",
    "\n",
    "# Save the HTML content to a file\n",
    "html_content = driver.page_source\n",
    "with open('page_content.html', 'w', encoding='utf-8') as file:\n",
    "    file.write(html_content)\n",
    "\n",
    "# Take a screenshot as proof of session reuse\n",
    "driver.save_screenshot('session_with_cookies.png')\n",
    "\n",
    "# Quit the browser\n",
    "driver.quit()"
   ]
  },
  {
   "cell_type": "code",
   "execution_count": 13,
   "metadata": {},
   "outputs": [
    {
     "name": "stdout",
     "output_type": "stream",
     "text": [
      "Pictures of flooding in Carp, ON (deep west Ottawa) from the remnants of #HurricaneDebby #ONStorm #ONwx\n",
      "Over 40,000 without power this evening as winds & heavy rain associated w/ the remnants of #Debby result in fallen trees & limbs.\n",
      "The power out where I am on the island of #Montreal. #QC\n",
      "#QCwx #QCstrorm #TropicalStormDebby #HurricaneDebby\n",
      "We will rebuild. #HurricaneDebby damage\n",
      "Picture of the “mighty” Carp River tonight. Normally it’s about 10-15 metres wide but broke its banks with today’s rain, and was about 200 metres wide! #HurricaneDebby #ONwx #ONstorm\n",
      "Current power outage map.   Plan accordingly...\n",
      "\n",
      "#hurricanedebbie #HurricaneDebby #griddown #flooding #power #ohio\n",
      "Radar loop of #HurricaneDebby as she moved up the coast.\n"
     ]
    }
   ],
   "source": [
    "from bs4 import BeautifulSoup\n",
    "\n",
    "# Read the HTML content from the file\n",
    "with open('page_content.html', 'r', encoding='utf-8') as file:\n",
    "    html_content = file.read()\n",
    "\n",
    "# Parse the HTML content using BeautifulSoup\n",
    "soup = BeautifulSoup(html_content, 'html.parser')\n",
    "\n",
    "# Find all tags with data-testid=\"tweetText\"\n",
    "tweet_text_tags = soup.find_all(attrs={\"data-testid\": \"tweetText\"})\n",
    "\n",
    "# Print the content of each found tag\n",
    "for tag in tweet_text_tags:\n",
    "    # print(f\"Tag: {tag}\")\n",
    "    print(f\"{tag.text}\")"
   ]
  }
 ],
 "metadata": {
  "kernelspec": {
   "display_name": "ENV3",
   "language": "python",
   "name": "python3"
  },
  "language_info": {
   "codemirror_mode": {
    "name": "ipython",
    "version": 3
   },
   "file_extension": ".py",
   "mimetype": "text/x-python",
   "name": "python",
   "nbconvert_exporter": "python",
   "pygments_lexer": "ipython3",
   "version": "3.12.0"
  }
 },
 "nbformat": 4,
 "nbformat_minor": 2
}
